{
 "cells": [
  {
   "cell_type": "markdown",
   "metadata": {},
   "source": [
    "# Extensions to Linear Models - Lab"
   ]
  },
  {
   "cell_type": "markdown",
   "metadata": {},
   "source": [
    "## Introduction\n",
    "\n",
    "In this lab, you'll practice many concepts you have learned so far, from adding interactions and polynomials to your model to regularization!"
   ]
  },
  {
   "cell_type": "markdown",
   "metadata": {},
   "source": [
    "## Summary\n",
    "\n",
    "You will be able to:\n",
    "\n",
    "- Build a linear regression model with interactions and polynomial features \n",
    "- Use feature selection to obtain the optimal subset of features in a dataset"
   ]
  },
  {
   "cell_type": "markdown",
   "metadata": {},
   "source": [
    "## Let's Get Started!\n",
    "\n",
    "Below we import all the necessary packages for this lab."
   ]
  },
  {
   "cell_type": "code",
   "execution_count": 2,
   "metadata": {},
   "outputs": [],
   "source": [
    "# Run this cell without changes\n",
    "\n",
    "import pandas as pd\n",
    "import numpy as np\n",
    "import matplotlib.pyplot as plt\n",
    "import warnings\n",
    "warnings.filterwarnings('ignore')\n",
    "from itertools import combinations\n",
    "\n",
    "from sklearn.feature_selection import RFE\n",
    "from sklearn.linear_model import LinearRegression, Lasso\n",
    "from sklearn.metrics import mean_squared_error\n",
    "from sklearn.model_selection import train_test_split\n",
    "from sklearn.preprocessing import StandardScaler, PolynomialFeatures"
   ]
  },
  {
   "cell_type": "markdown",
   "metadata": {},
   "source": [
    "Load the data."
   ]
  },
  {
   "cell_type": "code",
   "execution_count": 3,
   "metadata": {},
   "outputs": [],
   "source": [
    "# Run this cell without changes\n",
    "\n",
    "# Load data from CSV\n",
    "df = pd.read_csv(\"ames.csv\")\n",
    "# Subset columns\n",
    "df = df[['LotArea', 'OverallQual', 'OverallCond', 'TotalBsmtSF',\n",
    "         '1stFlrSF', '2ndFlrSF', 'GrLivArea', 'TotRmsAbvGrd',\n",
    "         'GarageArea', 'Fireplaces', 'SalePrice']]\n",
    "\n",
    "# Split the data into X and y\n",
    "y = df['SalePrice']\n",
    "X = df.drop(columns='SalePrice')\n",
    "\n",
    "# Split into train, test, and validation sets\n",
    "X_train, X_test, y_train, y_test = train_test_split(X, y, random_state=42)\n",
    "X_train, X_val, y_train, y_val = train_test_split(X_train, y_train, random_state=0)"
   ]
  },
  {
   "cell_type": "markdown",
   "metadata": {},
   "source": [
    "## Build a Baseline Housing Data Model"
   ]
  },
  {
   "cell_type": "markdown",
   "metadata": {},
   "source": [
    "Above, we imported the Ames housing data and grabbed a subset of the data to use in this analysis.\n",
    "\n",
    "Next steps:\n",
    "\n",
    "- Scale all the predictors using `StandardScaler`, then convert these scaled features back into DataFrame objects\n",
    "- Build a baseline `LinearRegression` model using *scaled variables* as predictors and use the $R^2$ score to evaluate the model "
   ]
  },
  {
   "cell_type": "code",
   "execution_count": 4,
   "metadata": {},
   "outputs": [],
   "source": [
    "# Your code here\n",
    "scaler = StandardScaler()\n",
    "\n",
    "X_train_scaled = scaler.fit_transform(X_train)\n",
    "X_val_scaled = scaler.transform(X_val)\n",
    "\n",
    "# Ensure X_train and X_val are scaled DataFrames\n",
    "# (hint: you can set the columns using X.columns)\n",
    "X_train = pd.DataFrame(X_train_scaled, columns=X.columns)\n",
    "X_val = pd.DataFrame(X_val_scaled, columns=X.columns)\n",
    "\n"
   ]
  },
  {
   "cell_type": "code",
   "execution_count": 5,
   "metadata": {},
   "outputs": [
    {
     "data": {
      "text/plain": [
       "(0.7868344817421309, 0.6375622643038104)"
      ]
     },
     "execution_count": 5,
     "metadata": {},
     "output_type": "execute_result"
    }
   ],
   "source": [
    "# Your code here\n",
    "lin = LinearRegression()\n",
    "# Create a LinearRegression model and fit it on scaled training data\n",
    "lin.fit(X_train, y_train)\n",
    "# Calculate a baseline r-squared score on training data\n",
    "baseline_train = lin.score(X_train, y_train)\n",
    "baseline_val = lin.score(X_val, y_val)\n",
    "\n",
    "baseline_train, baseline_val"
   ]
  },
  {
   "cell_type": "markdown",
   "metadata": {},
   "source": [
    "## Add Interactions\n",
    "\n",
    "Instead of adding all possible interaction terms, let's try a custom technique. We are only going to add the interaction terms that increase the $R^2$ score as much as possible. Specifically we are going to look for the 7 interaction terms that each cause the most increase in the coefficient of determination.\n",
    "\n",
    "### Find the Best Interactions\n",
    "\n",
    "Look at all the possible combinations of variables for interactions by adding interactions one by one to the baseline model. Create a data structure that stores the pair of columns used as well as the $R^2$ score for each combination.\n",
    "\n",
    "***Hint:*** We have imported the `combinations` function from `itertools` for you ([documentation here](https://docs.python.org/3/library/itertools.html#itertools.combinations)). Try applying this to the columns of `X_train` to find all of the possible pairs.\n",
    "\n",
    "Print the 7 interactions that result in the highest $R^2$ scores."
   ]
  },
  {
   "cell_type": "code",
   "execution_count": 7,
   "metadata": {},
   "outputs": [
    {
     "name": "stdout",
     "output_type": "stream",
     "text": [
      "Top 7 interactions:\n",
      "[(('LotArea', '1stFlrSF'), 0.7211105666140567), (('LotArea', 'TotalBsmtSF'), 0.7071649207050106), (('LotArea', 'GrLivArea'), 0.6690980823779026), (('LotArea', 'Fireplaces'), 0.6529699515652588), (('2ndFlrSF', 'TotRmsAbvGrd'), 0.647299489040519), (('OverallCond', 'TotalBsmtSF'), 0.642901987923377), (('OverallQual', '2ndFlrSF'), 0.6422324294284367)]\n"
     ]
    }
   ],
   "source": [
    "# Your code here\n",
    "\n",
    "interactions = []\n",
    "\n",
    "# Find combinations of columns and loop over them\n",
    "column_pairs = list(combinations(X_train.columns, 2))\n",
    "for (col1, col2) in column_pairs:\n",
    "    # Make copies of X_train and X_val\n",
    "    features_train = X_train.copy()\n",
    "    features_val = X_val.copy()\n",
    "    \n",
    "    # Add interaction term to data\n",
    "    features_train[\"interaction\"] = features_train[col1] * features_train[col2]\n",
    "    features_val[\"interaction\"] = features_val[col1] * features_val[col2]\n",
    "    \n",
    "    # Find r-squared score (fit on training data, evaluate on test data)\n",
    "    score = LinearRegression().fit(features_train, y_train).score(features_val, y_val)\n",
    "    \n",
    "    # Append to data structure\n",
    "    interactions.append(((col1, col2), score))\n",
    "\n",
    "# Sort and subset the data structure to find the top 7\n",
    "top_7_interactions = sorted(interactions, key=lambda record: record[1], reverse=True)[:7]\n",
    "print(\"Top 7 interactions:\")\n",
    "print(top_7_interactions)\n",
    "\n",
    "\n"
   ]
  },
  {
   "cell_type": "markdown",
   "metadata": {},
   "source": [
    "### Add the Best Interactions\n",
    "\n",
    "Write code to include the 7 most important interactions in `X_train` and `X_val` by adding 7 columns. Use the naming convention `\"col1_col2\"`, where `col1` and `col2` are the two columns in the interaction."
   ]
  },
  {
   "cell_type": "code",
   "execution_count": 8,
   "metadata": {},
   "outputs": [
    {
     "data": {
      "text/html": [
       "<div>\n",
       "<style scoped>\n",
       "    .dataframe tbody tr th:only-of-type {\n",
       "        vertical-align: middle;\n",
       "    }\n",
       "\n",
       "    .dataframe tbody tr th {\n",
       "        vertical-align: top;\n",
       "    }\n",
       "\n",
       "    .dataframe thead th {\n",
       "        text-align: right;\n",
       "    }\n",
       "</style>\n",
       "<table border=\"1\" class=\"dataframe\">\n",
       "  <thead>\n",
       "    <tr style=\"text-align: right;\">\n",
       "      <th></th>\n",
       "      <th>LotArea</th>\n",
       "      <th>OverallQual</th>\n",
       "      <th>OverallCond</th>\n",
       "      <th>TotalBsmtSF</th>\n",
       "      <th>1stFlrSF</th>\n",
       "      <th>2ndFlrSF</th>\n",
       "      <th>GrLivArea</th>\n",
       "      <th>TotRmsAbvGrd</th>\n",
       "      <th>GarageArea</th>\n",
       "      <th>Fireplaces</th>\n",
       "      <th>LotArea_1stFlrSF</th>\n",
       "      <th>LotArea_TotalBsmtSF</th>\n",
       "      <th>LotArea_GrLivArea</th>\n",
       "      <th>LotArea_Fireplaces</th>\n",
       "      <th>2ndFlrSF_TotRmsAbvGrd</th>\n",
       "      <th>OverallCond_TotalBsmtSF</th>\n",
       "      <th>OverallQual_2ndFlrSF</th>\n",
       "    </tr>\n",
       "  </thead>\n",
       "  <tbody>\n",
       "    <tr>\n",
       "      <th>0</th>\n",
       "      <td>-0.114710</td>\n",
       "      <td>-0.099842</td>\n",
       "      <td>-0.509252</td>\n",
       "      <td>-0.639316</td>\n",
       "      <td>-0.804789</td>\n",
       "      <td>1.261552</td>\n",
       "      <td>0.499114</td>\n",
       "      <td>0.250689</td>\n",
       "      <td>0.327629</td>\n",
       "      <td>-0.994820</td>\n",
       "      <td>0.092318</td>\n",
       "      <td>0.073336</td>\n",
       "      <td>-0.057254</td>\n",
       "      <td>0.114116</td>\n",
       "      <td>0.316257</td>\n",
       "      <td>0.325573</td>\n",
       "      <td>-0.125956</td>\n",
       "    </tr>\n",
       "    <tr>\n",
       "      <th>1</th>\n",
       "      <td>-0.176719</td>\n",
       "      <td>0.632038</td>\n",
       "      <td>-0.509252</td>\n",
       "      <td>0.838208</td>\n",
       "      <td>0.641608</td>\n",
       "      <td>-0.808132</td>\n",
       "      <td>-0.247249</td>\n",
       "      <td>-0.365525</td>\n",
       "      <td>0.079146</td>\n",
       "      <td>-0.994820</td>\n",
       "      <td>-0.113385</td>\n",
       "      <td>-0.148128</td>\n",
       "      <td>0.043694</td>\n",
       "      <td>0.175804</td>\n",
       "      <td>0.295392</td>\n",
       "      <td>-0.426859</td>\n",
       "      <td>-0.510770</td>\n",
       "    </tr>\n",
       "    <tr>\n",
       "      <th>2</th>\n",
       "      <td>-0.246336</td>\n",
       "      <td>-0.831723</td>\n",
       "      <td>1.304613</td>\n",
       "      <td>-0.012560</td>\n",
       "      <td>-0.329000</td>\n",
       "      <td>-0.808132</td>\n",
       "      <td>-0.944766</td>\n",
       "      <td>-0.981739</td>\n",
       "      <td>-1.105931</td>\n",
       "      <td>-0.994820</td>\n",
       "      <td>0.081045</td>\n",
       "      <td>0.003094</td>\n",
       "      <td>0.232730</td>\n",
       "      <td>0.245060</td>\n",
       "      <td>0.793375</td>\n",
       "      <td>-0.016386</td>\n",
       "      <td>0.672141</td>\n",
       "    </tr>\n",
       "    <tr>\n",
       "      <th>3</th>\n",
       "      <td>-0.378617</td>\n",
       "      <td>-0.831723</td>\n",
       "      <td>1.304613</td>\n",
       "      <td>-0.339045</td>\n",
       "      <td>-0.609036</td>\n",
       "      <td>-0.808132</td>\n",
       "      <td>-1.146010</td>\n",
       "      <td>-0.981739</td>\n",
       "      <td>-1.134602</td>\n",
       "      <td>0.588023</td>\n",
       "      <td>0.230591</td>\n",
       "      <td>0.128368</td>\n",
       "      <td>0.433899</td>\n",
       "      <td>-0.222636</td>\n",
       "      <td>0.793375</td>\n",
       "      <td>-0.442323</td>\n",
       "      <td>0.672141</td>\n",
       "    </tr>\n",
       "    <tr>\n",
       "      <th>4</th>\n",
       "      <td>-0.010898</td>\n",
       "      <td>-1.563603</td>\n",
       "      <td>1.304613</td>\n",
       "      <td>-2.531499</td>\n",
       "      <td>-1.315922</td>\n",
       "      <td>0.550523</td>\n",
       "      <td>-0.481708</td>\n",
       "      <td>0.250689</td>\n",
       "      <td>-2.281450</td>\n",
       "      <td>-0.994820</td>\n",
       "      <td>0.014341</td>\n",
       "      <td>0.027589</td>\n",
       "      <td>0.005250</td>\n",
       "      <td>0.010842</td>\n",
       "      <td>0.138010</td>\n",
       "      <td>-3.302627</td>\n",
       "      <td>-0.860799</td>\n",
       "    </tr>\n",
       "    <tr>\n",
       "      <th>...</th>\n",
       "      <td>...</td>\n",
       "      <td>...</td>\n",
       "      <td>...</td>\n",
       "      <td>...</td>\n",
       "      <td>...</td>\n",
       "      <td>...</td>\n",
       "      <td>...</td>\n",
       "      <td>...</td>\n",
       "      <td>...</td>\n",
       "      <td>...</td>\n",
       "      <td>...</td>\n",
       "      <td>...</td>\n",
       "      <td>...</td>\n",
       "      <td>...</td>\n",
       "      <td>...</td>\n",
       "      <td>...</td>\n",
       "      <td>...</td>\n",
       "    </tr>\n",
       "    <tr>\n",
       "      <th>816</th>\n",
       "      <td>-0.532331</td>\n",
       "      <td>-0.099842</td>\n",
       "      <td>-0.509252</td>\n",
       "      <td>-0.510628</td>\n",
       "      <td>-0.897228</td>\n",
       "      <td>-0.808132</td>\n",
       "      <td>-1.353116</td>\n",
       "      <td>-2.214167</td>\n",
       "      <td>-0.274466</td>\n",
       "      <td>0.588023</td>\n",
       "      <td>0.477622</td>\n",
       "      <td>0.271823</td>\n",
       "      <td>0.720306</td>\n",
       "      <td>-0.313023</td>\n",
       "      <td>1.789339</td>\n",
       "      <td>0.260039</td>\n",
       "      <td>0.080686</td>\n",
       "    </tr>\n",
       "    <tr>\n",
       "      <th>817</th>\n",
       "      <td>-0.309245</td>\n",
       "      <td>-0.099842</td>\n",
       "      <td>-0.509252</td>\n",
       "      <td>0.514106</td>\n",
       "      <td>0.315353</td>\n",
       "      <td>-0.808132</td>\n",
       "      <td>-0.481708</td>\n",
       "      <td>-0.365525</td>\n",
       "      <td>0.088703</td>\n",
       "      <td>-0.994820</td>\n",
       "      <td>-0.097522</td>\n",
       "      <td>-0.158985</td>\n",
       "      <td>0.148966</td>\n",
       "      <td>0.307643</td>\n",
       "      <td>0.295392</td>\n",
       "      <td>-0.261809</td>\n",
       "      <td>0.080686</td>\n",
       "    </tr>\n",
       "    <tr>\n",
       "      <th>818</th>\n",
       "      <td>0.119419</td>\n",
       "      <td>0.632038</td>\n",
       "      <td>-0.509252</td>\n",
       "      <td>-0.513011</td>\n",
       "      <td>-0.899947</td>\n",
       "      <td>1.684999</td>\n",
       "      <td>0.796096</td>\n",
       "      <td>0.866903</td>\n",
       "      <td>-0.207566</td>\n",
       "      <td>0.588023</td>\n",
       "      <td>-0.107471</td>\n",
       "      <td>-0.061263</td>\n",
       "      <td>0.095069</td>\n",
       "      <td>0.070221</td>\n",
       "      <td>1.460730</td>\n",
       "      <td>0.261252</td>\n",
       "      <td>1.064983</td>\n",
       "    </tr>\n",
       "    <tr>\n",
       "      <th>819</th>\n",
       "      <td>-0.002718</td>\n",
       "      <td>-0.099842</td>\n",
       "      <td>1.304613</td>\n",
       "      <td>-0.889542</td>\n",
       "      <td>-1.329516</td>\n",
       "      <td>0.783758</td>\n",
       "      <td>-0.290233</td>\n",
       "      <td>-0.365525</td>\n",
       "      <td>-0.852668</td>\n",
       "      <td>-0.994820</td>\n",
       "      <td>0.003613</td>\n",
       "      <td>0.002418</td>\n",
       "      <td>0.000789</td>\n",
       "      <td>0.002704</td>\n",
       "      <td>-0.286483</td>\n",
       "      <td>-1.160508</td>\n",
       "      <td>-0.078252</td>\n",
       "    </tr>\n",
       "    <tr>\n",
       "      <th>820</th>\n",
       "      <td>0.086287</td>\n",
       "      <td>-0.099842</td>\n",
       "      <td>0.397681</td>\n",
       "      <td>0.433080</td>\n",
       "      <td>0.179414</td>\n",
       "      <td>-0.808132</td>\n",
       "      <td>-0.579400</td>\n",
       "      <td>-0.365525</td>\n",
       "      <td>-0.675863</td>\n",
       "      <td>2.170867</td>\n",
       "      <td>0.015481</td>\n",
       "      <td>0.037369</td>\n",
       "      <td>-0.049995</td>\n",
       "      <td>0.187318</td>\n",
       "      <td>0.295392</td>\n",
       "      <td>0.172228</td>\n",
       "      <td>0.080686</td>\n",
       "    </tr>\n",
       "  </tbody>\n",
       "</table>\n",
       "<p>821 rows × 17 columns</p>\n",
       "</div>"
      ],
      "text/plain": [
       "      LotArea  OverallQual  OverallCond  TotalBsmtSF  1stFlrSF  2ndFlrSF  \\\n",
       "0   -0.114710    -0.099842    -0.509252    -0.639316 -0.804789  1.261552   \n",
       "1   -0.176719     0.632038    -0.509252     0.838208  0.641608 -0.808132   \n",
       "2   -0.246336    -0.831723     1.304613    -0.012560 -0.329000 -0.808132   \n",
       "3   -0.378617    -0.831723     1.304613    -0.339045 -0.609036 -0.808132   \n",
       "4   -0.010898    -1.563603     1.304613    -2.531499 -1.315922  0.550523   \n",
       "..        ...          ...          ...          ...       ...       ...   \n",
       "816 -0.532331    -0.099842    -0.509252    -0.510628 -0.897228 -0.808132   \n",
       "817 -0.309245    -0.099842    -0.509252     0.514106  0.315353 -0.808132   \n",
       "818  0.119419     0.632038    -0.509252    -0.513011 -0.899947  1.684999   \n",
       "819 -0.002718    -0.099842     1.304613    -0.889542 -1.329516  0.783758   \n",
       "820  0.086287    -0.099842     0.397681     0.433080  0.179414 -0.808132   \n",
       "\n",
       "     GrLivArea  TotRmsAbvGrd  GarageArea  Fireplaces  LotArea_1stFlrSF  \\\n",
       "0     0.499114      0.250689    0.327629   -0.994820          0.092318   \n",
       "1    -0.247249     -0.365525    0.079146   -0.994820         -0.113385   \n",
       "2    -0.944766     -0.981739   -1.105931   -0.994820          0.081045   \n",
       "3    -1.146010     -0.981739   -1.134602    0.588023          0.230591   \n",
       "4    -0.481708      0.250689   -2.281450   -0.994820          0.014341   \n",
       "..         ...           ...         ...         ...               ...   \n",
       "816  -1.353116     -2.214167   -0.274466    0.588023          0.477622   \n",
       "817  -0.481708     -0.365525    0.088703   -0.994820         -0.097522   \n",
       "818   0.796096      0.866903   -0.207566    0.588023         -0.107471   \n",
       "819  -0.290233     -0.365525   -0.852668   -0.994820          0.003613   \n",
       "820  -0.579400     -0.365525   -0.675863    2.170867          0.015481   \n",
       "\n",
       "     LotArea_TotalBsmtSF  LotArea_GrLivArea  LotArea_Fireplaces  \\\n",
       "0               0.073336          -0.057254            0.114116   \n",
       "1              -0.148128           0.043694            0.175804   \n",
       "2               0.003094           0.232730            0.245060   \n",
       "3               0.128368           0.433899           -0.222636   \n",
       "4               0.027589           0.005250            0.010842   \n",
       "..                   ...                ...                 ...   \n",
       "816             0.271823           0.720306           -0.313023   \n",
       "817            -0.158985           0.148966            0.307643   \n",
       "818            -0.061263           0.095069            0.070221   \n",
       "819             0.002418           0.000789            0.002704   \n",
       "820             0.037369          -0.049995            0.187318   \n",
       "\n",
       "     2ndFlrSF_TotRmsAbvGrd  OverallCond_TotalBsmtSF  OverallQual_2ndFlrSF  \n",
       "0                 0.316257                 0.325573             -0.125956  \n",
       "1                 0.295392                -0.426859             -0.510770  \n",
       "2                 0.793375                -0.016386              0.672141  \n",
       "3                 0.793375                -0.442323              0.672141  \n",
       "4                 0.138010                -3.302627             -0.860799  \n",
       "..                     ...                      ...                   ...  \n",
       "816               1.789339                 0.260039              0.080686  \n",
       "817               0.295392                -0.261809              0.080686  \n",
       "818               1.460730                 0.261252              1.064983  \n",
       "819              -0.286483                -1.160508             -0.078252  \n",
       "820               0.295392                 0.172228              0.080686  \n",
       "\n",
       "[821 rows x 17 columns]"
      ]
     },
     "execution_count": 8,
     "metadata": {},
     "output_type": "execute_result"
    }
   ],
   "source": [
    "# Your code here\n",
    "\n",
    "# Loop over top 7 interactions\n",
    "for record in top_7_interactions:\n",
    "    # Extract column names from data structure\n",
    "    col1, col2 = record[0]\n",
    "    \n",
    "    # Construct new column name\n",
    "    new_col_name = col1 + \"_\" + col2\n",
    "    \n",
    "    # Add new column to X_train and X_val\n",
    "    X_train[new_col_name] = X_train[col1] * X_train[col2]\n",
    "    X_val[new_col_name] = X_val[col1] * X_val[col2]\n",
    "    \n",
    "X_train\n"
   ]
  },
  {
   "cell_type": "markdown",
   "metadata": {},
   "source": [
    "## Add Polynomials\n",
    "\n",
    "Now let's repeat that process for adding polynomial terms.\n",
    "\n",
    "### Find the Best Polynomials\n",
    "\n",
    "Try polynomials of degrees 2, 3, and 4 for each variable, in a similar way you did for interactions (by looking at your baseline model and seeing how $R^2$ increases). Do understand that when going for a polynomial of degree 4 with `PolynomialFeatures`, the particular column is raised to the power of 2 and 3 as well in other terms.\n",
    "\n",
    "We only want to include \"pure\" polynomials, so make sure no interactions are included.\n",
    "\n",
    "Once again you should make a data structure that contains the values you have tested. We recommend a list of tuples of the form:\n",
    "\n",
    "`(col_name, degree, R2)`, so eg. `('OverallQual', 2, 0.781)` "
   ]
  },
  {
   "cell_type": "code",
   "execution_count": 12,
   "metadata": {},
   "outputs": [
    {
     "ename": "TypeError",
     "evalue": "Feature names are only supported if all input features have string names, but your input has ['int', 'str'] as feature name / column name types. If you want feature names to be stored and validated, you must convert them all to strings, by using X.columns = X.columns.astype(str) for example. Otherwise you can remove feature / column names from your input data, or convert them all to a non-string data type.",
     "output_type": "error",
     "traceback": [
      "\u001b[1;31m---------------------------------------------------------------------------\u001b[0m",
      "\u001b[1;31mTypeError\u001b[0m                                 Traceback (most recent call last)",
      "Cell \u001b[1;32mIn[12], line 28\u001b[0m\n\u001b[0;32m     25\u001b[0m features_val \u001b[38;5;241m=\u001b[39m pd\u001b[38;5;241m.\u001b[39mconcat([features_val\u001b[38;5;241m.\u001b[39mdrop(col, axis\u001b[38;5;241m=\u001b[39m\u001b[38;5;241m1\u001b[39m), col_transformed_val], axis\u001b[38;5;241m=\u001b[39m\u001b[38;5;241m1\u001b[39m)\n\u001b[0;32m     27\u001b[0m \u001b[38;5;66;03m# Find r-squared score\u001b[39;00m\n\u001b[1;32m---> 28\u001b[0m score \u001b[38;5;241m=\u001b[39m LinearRegression()\u001b[38;5;241m.\u001b[39mfit(features_train, y_train)\u001b[38;5;241m.\u001b[39mscore(features_val, y_val)\n\u001b[0;32m     30\u001b[0m \u001b[38;5;66;03m# Append to data structure\u001b[39;00m\n\u001b[0;32m     31\u001b[0m polynomials\u001b[38;5;241m.\u001b[39mappend((col, degree, score))\n",
      "File \u001b[1;32m~\\AppData\\Local\\anaconda3\\Lib\\site-packages\\sklearn\\linear_model\\_base.py:648\u001b[0m, in \u001b[0;36mLinearRegression.fit\u001b[1;34m(self, X, y, sample_weight)\u001b[0m\n\u001b[0;32m    644\u001b[0m n_jobs_ \u001b[38;5;241m=\u001b[39m \u001b[38;5;28mself\u001b[39m\u001b[38;5;241m.\u001b[39mn_jobs\n\u001b[0;32m    646\u001b[0m accept_sparse \u001b[38;5;241m=\u001b[39m \u001b[38;5;28;01mFalse\u001b[39;00m \u001b[38;5;28;01mif\u001b[39;00m \u001b[38;5;28mself\u001b[39m\u001b[38;5;241m.\u001b[39mpositive \u001b[38;5;28;01melse\u001b[39;00m [\u001b[38;5;124m\"\u001b[39m\u001b[38;5;124mcsr\u001b[39m\u001b[38;5;124m\"\u001b[39m, \u001b[38;5;124m\"\u001b[39m\u001b[38;5;124mcsc\u001b[39m\u001b[38;5;124m\"\u001b[39m, \u001b[38;5;124m\"\u001b[39m\u001b[38;5;124mcoo\u001b[39m\u001b[38;5;124m\"\u001b[39m]\n\u001b[1;32m--> 648\u001b[0m X, y \u001b[38;5;241m=\u001b[39m \u001b[38;5;28mself\u001b[39m\u001b[38;5;241m.\u001b[39m_validate_data(\n\u001b[0;32m    649\u001b[0m     X, y, accept_sparse\u001b[38;5;241m=\u001b[39maccept_sparse, y_numeric\u001b[38;5;241m=\u001b[39m\u001b[38;5;28;01mTrue\u001b[39;00m, multi_output\u001b[38;5;241m=\u001b[39m\u001b[38;5;28;01mTrue\u001b[39;00m\n\u001b[0;32m    650\u001b[0m )\n\u001b[0;32m    652\u001b[0m sample_weight \u001b[38;5;241m=\u001b[39m _check_sample_weight(\n\u001b[0;32m    653\u001b[0m     sample_weight, X, dtype\u001b[38;5;241m=\u001b[39mX\u001b[38;5;241m.\u001b[39mdtype, only_non_negative\u001b[38;5;241m=\u001b[39m\u001b[38;5;28;01mTrue\u001b[39;00m\n\u001b[0;32m    654\u001b[0m )\n\u001b[0;32m    656\u001b[0m X, y, X_offset, y_offset, X_scale \u001b[38;5;241m=\u001b[39m _preprocess_data(\n\u001b[0;32m    657\u001b[0m     X,\n\u001b[0;32m    658\u001b[0m     y,\n\u001b[1;32m   (...)\u001b[0m\n\u001b[0;32m    661\u001b[0m     sample_weight\u001b[38;5;241m=\u001b[39msample_weight,\n\u001b[0;32m    662\u001b[0m )\n",
      "File \u001b[1;32m~\\AppData\\Local\\anaconda3\\Lib\\site-packages\\sklearn\\base.py:548\u001b[0m, in \u001b[0;36mBaseEstimator._validate_data\u001b[1;34m(self, X, y, reset, validate_separately, **check_params)\u001b[0m\n\u001b[0;32m    483\u001b[0m \u001b[38;5;28;01mdef\u001b[39;00m \u001b[38;5;21m_validate_data\u001b[39m(\n\u001b[0;32m    484\u001b[0m     \u001b[38;5;28mself\u001b[39m,\n\u001b[0;32m    485\u001b[0m     X\u001b[38;5;241m=\u001b[39m\u001b[38;5;124m\"\u001b[39m\u001b[38;5;124mno_validation\u001b[39m\u001b[38;5;124m\"\u001b[39m,\n\u001b[1;32m   (...)\u001b[0m\n\u001b[0;32m    489\u001b[0m     \u001b[38;5;241m*\u001b[39m\u001b[38;5;241m*\u001b[39mcheck_params,\n\u001b[0;32m    490\u001b[0m ):\n\u001b[0;32m    491\u001b[0m \u001b[38;5;250m    \u001b[39m\u001b[38;5;124;03m\"\"\"Validate input data and set or check the `n_features_in_` attribute.\u001b[39;00m\n\u001b[0;32m    492\u001b[0m \n\u001b[0;32m    493\u001b[0m \u001b[38;5;124;03m    Parameters\u001b[39;00m\n\u001b[1;32m   (...)\u001b[0m\n\u001b[0;32m    546\u001b[0m \u001b[38;5;124;03m        validated.\u001b[39;00m\n\u001b[0;32m    547\u001b[0m \u001b[38;5;124;03m    \"\"\"\u001b[39;00m\n\u001b[1;32m--> 548\u001b[0m     \u001b[38;5;28mself\u001b[39m\u001b[38;5;241m.\u001b[39m_check_feature_names(X, reset\u001b[38;5;241m=\u001b[39mreset)\n\u001b[0;32m    550\u001b[0m     \u001b[38;5;28;01mif\u001b[39;00m y \u001b[38;5;129;01mis\u001b[39;00m \u001b[38;5;28;01mNone\u001b[39;00m \u001b[38;5;129;01mand\u001b[39;00m \u001b[38;5;28mself\u001b[39m\u001b[38;5;241m.\u001b[39m_get_tags()[\u001b[38;5;124m\"\u001b[39m\u001b[38;5;124mrequires_y\u001b[39m\u001b[38;5;124m\"\u001b[39m]:\n\u001b[0;32m    551\u001b[0m         \u001b[38;5;28;01mraise\u001b[39;00m \u001b[38;5;167;01mValueError\u001b[39;00m(\n\u001b[0;32m    552\u001b[0m             \u001b[38;5;124mf\u001b[39m\u001b[38;5;124m\"\u001b[39m\u001b[38;5;124mThis \u001b[39m\u001b[38;5;132;01m{\u001b[39;00m\u001b[38;5;28mself\u001b[39m\u001b[38;5;241m.\u001b[39m\u001b[38;5;18m__class__\u001b[39m\u001b[38;5;241m.\u001b[39m\u001b[38;5;18m__name__\u001b[39m\u001b[38;5;132;01m}\u001b[39;00m\u001b[38;5;124m estimator \u001b[39m\u001b[38;5;124m\"\u001b[39m\n\u001b[0;32m    553\u001b[0m             \u001b[38;5;124m\"\u001b[39m\u001b[38;5;124mrequires y to be passed, but the target y is None.\u001b[39m\u001b[38;5;124m\"\u001b[39m\n\u001b[0;32m    554\u001b[0m         )\n",
      "File \u001b[1;32m~\\AppData\\Local\\anaconda3\\Lib\\site-packages\\sklearn\\base.py:415\u001b[0m, in \u001b[0;36mBaseEstimator._check_feature_names\u001b[1;34m(self, X, reset)\u001b[0m\n\u001b[0;32m    395\u001b[0m \u001b[38;5;250m\u001b[39m\u001b[38;5;124;03m\"\"\"Set or check the `feature_names_in_` attribute.\u001b[39;00m\n\u001b[0;32m    396\u001b[0m \n\u001b[0;32m    397\u001b[0m \u001b[38;5;124;03m.. versionadded:: 1.0\u001b[39;00m\n\u001b[1;32m   (...)\u001b[0m\n\u001b[0;32m    411\u001b[0m \u001b[38;5;124;03m       should set `reset=False`.\u001b[39;00m\n\u001b[0;32m    412\u001b[0m \u001b[38;5;124;03m\"\"\"\u001b[39;00m\n\u001b[0;32m    414\u001b[0m \u001b[38;5;28;01mif\u001b[39;00m reset:\n\u001b[1;32m--> 415\u001b[0m     feature_names_in \u001b[38;5;241m=\u001b[39m _get_feature_names(X)\n\u001b[0;32m    416\u001b[0m     \u001b[38;5;28;01mif\u001b[39;00m feature_names_in \u001b[38;5;129;01mis\u001b[39;00m \u001b[38;5;129;01mnot\u001b[39;00m \u001b[38;5;28;01mNone\u001b[39;00m:\n\u001b[0;32m    417\u001b[0m         \u001b[38;5;28mself\u001b[39m\u001b[38;5;241m.\u001b[39mfeature_names_in_ \u001b[38;5;241m=\u001b[39m feature_names_in\n",
      "File \u001b[1;32m~\\AppData\\Local\\anaconda3\\Lib\\site-packages\\sklearn\\utils\\validation.py:1903\u001b[0m, in \u001b[0;36m_get_feature_names\u001b[1;34m(X)\u001b[0m\n\u001b[0;32m   1901\u001b[0m \u001b[38;5;66;03m# mixed type of string and non-string is not supported\u001b[39;00m\n\u001b[0;32m   1902\u001b[0m \u001b[38;5;28;01mif\u001b[39;00m \u001b[38;5;28mlen\u001b[39m(types) \u001b[38;5;241m>\u001b[39m \u001b[38;5;241m1\u001b[39m \u001b[38;5;129;01mand\u001b[39;00m \u001b[38;5;124m\"\u001b[39m\u001b[38;5;124mstr\u001b[39m\u001b[38;5;124m\"\u001b[39m \u001b[38;5;129;01min\u001b[39;00m types:\n\u001b[1;32m-> 1903\u001b[0m     \u001b[38;5;28;01mraise\u001b[39;00m \u001b[38;5;167;01mTypeError\u001b[39;00m(\n\u001b[0;32m   1904\u001b[0m         \u001b[38;5;124m\"\u001b[39m\u001b[38;5;124mFeature names are only supported if all input features have string names, \u001b[39m\u001b[38;5;124m\"\u001b[39m\n\u001b[0;32m   1905\u001b[0m         \u001b[38;5;124mf\u001b[39m\u001b[38;5;124m\"\u001b[39m\u001b[38;5;124mbut your input has \u001b[39m\u001b[38;5;132;01m{\u001b[39;00mtypes\u001b[38;5;132;01m}\u001b[39;00m\u001b[38;5;124m as feature name / column name types. \u001b[39m\u001b[38;5;124m\"\u001b[39m\n\u001b[0;32m   1906\u001b[0m         \u001b[38;5;124m\"\u001b[39m\u001b[38;5;124mIf you want feature names to be stored and validated, you must convert \u001b[39m\u001b[38;5;124m\"\u001b[39m\n\u001b[0;32m   1907\u001b[0m         \u001b[38;5;124m\"\u001b[39m\u001b[38;5;124mthem all to strings, by using X.columns = X.columns.astype(str) for \u001b[39m\u001b[38;5;124m\"\u001b[39m\n\u001b[0;32m   1908\u001b[0m         \u001b[38;5;124m\"\u001b[39m\u001b[38;5;124mexample. Otherwise you can remove feature / column names from your input \u001b[39m\u001b[38;5;124m\"\u001b[39m\n\u001b[0;32m   1909\u001b[0m         \u001b[38;5;124m\"\u001b[39m\u001b[38;5;124mdata, or convert them all to a non-string data type.\u001b[39m\u001b[38;5;124m\"\u001b[39m\n\u001b[0;32m   1910\u001b[0m     )\n\u001b[0;32m   1912\u001b[0m \u001b[38;5;66;03m# Only feature names of all strings are supported\u001b[39;00m\n\u001b[0;32m   1913\u001b[0m \u001b[38;5;28;01mif\u001b[39;00m \u001b[38;5;28mlen\u001b[39m(types) \u001b[38;5;241m==\u001b[39m \u001b[38;5;241m1\u001b[39m \u001b[38;5;129;01mand\u001b[39;00m types[\u001b[38;5;241m0\u001b[39m] \u001b[38;5;241m==\u001b[39m \u001b[38;5;124m\"\u001b[39m\u001b[38;5;124mstr\u001b[39m\u001b[38;5;124m\"\u001b[39m:\n",
      "\u001b[1;31mTypeError\u001b[0m: Feature names are only supported if all input features have string names, but your input has ['int', 'str'] as feature name / column name types. If you want feature names to be stored and validated, you must convert them all to strings, by using X.columns = X.columns.astype(str) for example. Otherwise you can remove feature / column names from your input data, or convert them all to a non-string data type."
     ]
    }
   ],
   "source": [
    "polynomials = []\n",
    "\n",
    "# Loop over all columns\n",
    "for col in X_train.columns:\n",
    "    # Loop over degrees 2, 3, 4\n",
    "    for degree in (2, 3, 4):\n",
    "        \n",
    "        # Make a copy of X_train and X_val\n",
    "        features_train = X_train.copy()\n",
    "        features_val = X_val.copy()\n",
    "    \n",
    "        # Instantiate PolynomialFeatures with relevant degree\n",
    "        poly = PolynomialFeatures(degree, include_bias=False)\n",
    "        \n",
    "        # Fit polynomial to column and transform column\n",
    "        # Hint: use the notation df[[column_name]] to get the right shape\n",
    "        # Hint: convert the result to a DataFrame\n",
    "        col_transformed_train = pd.DataFrame(poly.fit_transform(features_train[[col]]))\n",
    "        col_transformed_val = pd.DataFrame(poly.transform(features_val[[col]]))\n",
    "        \n",
    "        # Add polynomial to data\n",
    "        # Hint: use pd.concat since you're combining two DataFrames\n",
    "        # Hint: drop the column before combining so it doesn't appear twice\n",
    "        features_train = pd.concat([features_train.drop(col, axis=1), col_transformed_train], axis=1)\n",
    "        features_val = pd.concat([features_val.drop(col, axis=1), col_transformed_val], axis=1)\n",
    "    \n",
    "        # Find r-squared score\n",
    "        score = LinearRegression().fit(features_train, y_train).score(features_val, y_val)\n",
    "    \n",
    "        # Append to data structure\n",
    "        polynomials.append((col, degree, score))\n",
    "    \n",
    "# Sort and subset the data structure to find the top 7\n",
    "top_7_polynomials = sorted(polynomials, key=lambda record: record[-1], reverse=True)[:7]\n",
    "print(\"Top 7 polynomials:\")\n",
    "print(top_7_polynomials)"
   ]
  },
  {
   "cell_type": "markdown",
   "metadata": {},
   "source": [
    "### Add the Best Polynomials\n",
    "\n",
    "If there are duplicate column values in the results above, don't add multiple of them to the model, to avoid creating duplicate columns. (For example, if column `A` appeared in your list as both a 2nd and 3rd degree polynomial, adding both would result in `A` squared being added to the features twice.) Just add in the polynomial that results in the highest R-Squared."
   ]
  },
  {
   "cell_type": "code",
   "execution_count": 11,
   "metadata": {},
   "outputs": [
    {
     "ename": "NameError",
     "evalue": "name 'top_7_polynomials' is not defined",
     "output_type": "error",
     "traceback": [
      "\u001b[1;31m---------------------------------------------------------------------------\u001b[0m",
      "\u001b[1;31mNameError\u001b[0m                                 Traceback (most recent call last)",
      "Cell \u001b[1;32mIn[11], line 2\u001b[0m\n\u001b[0;32m      1\u001b[0m \u001b[38;5;66;03m# Your code here\u001b[39;00m\n\u001b[1;32m----> 2\u001b[0m top_polynomials \u001b[38;5;241m=\u001b[39m pd\u001b[38;5;241m.\u001b[39mDataFrame(top_7_polynomials, columns\u001b[38;5;241m=\u001b[39m[\u001b[38;5;124m\"\u001b[39m\u001b[38;5;124mColumn\u001b[39m\u001b[38;5;124m\"\u001b[39m, \u001b[38;5;124m\"\u001b[39m\u001b[38;5;124mDegree\u001b[39m\u001b[38;5;124m\"\u001b[39m, \u001b[38;5;124m\"\u001b[39m\u001b[38;5;124mR^2\u001b[39m\u001b[38;5;124m\"\u001b[39m])\n\u001b[0;32m      3\u001b[0m top_polynomials\n\u001b[0;32m      5\u001b[0m \u001b[38;5;66;03m# Drop duplicate columns based on Column name\u001b[39;00m\n",
      "\u001b[1;31mNameError\u001b[0m: name 'top_7_polynomials' is not defined"
     ]
    }
   ],
   "source": [
    "# Your code here\n",
    "top_polynomials = pd.DataFrame(top_7_polynomials, columns=[\"Column\", \"Degree\", \"R^2\"])\n",
    "top_polynomials\n",
    "\n",
    "# Drop duplicate columns based on Column name\n",
    "top_polynomials.drop_duplicates(subset=\"Column\", inplace=True)\n",
    "top_polynomials\n",
    "\n",
    "# Loop over remaining results\n",
    "for (col, degree, _) in top_polynomials.values:\n",
    "    #Create polynomimal terms\n",
    "    poly = PolynomialFeatures(degree, include_bias=False)\n",
    "    train_poly = pd.DataFrame(poly.fit_transform(X_train[[col]]),\n",
    "                              columns=poly.get_feature_names([col]))\n",
    "    val_poly = pd.DataFrame(poly.transform(X_val[[col]]),\n",
    "                              columns=poly.get_feature_names([col]))\n",
    "    \n",
    "    #Concat back to original\n",
    "    X_train = pd.concat([X_train.drop(col, axis=1), train_poly], axis=1)\n",
    "    X_val = pd.concat([X_val.drop(col, axis=1), val_poly], axis=1)\n",
    "\n",
    "    "
   ]
  },
  {
   "cell_type": "markdown",
   "metadata": {},
   "source": [
    "Check out your final data set and make sure that your interaction terms as well as your polynomial terms are included."
   ]
  },
  {
   "cell_type": "code",
   "execution_count": 13,
   "metadata": {},
   "outputs": [
    {
     "data": {
      "text/html": [
       "<div>\n",
       "<style scoped>\n",
       "    .dataframe tbody tr th:only-of-type {\n",
       "        vertical-align: middle;\n",
       "    }\n",
       "\n",
       "    .dataframe tbody tr th {\n",
       "        vertical-align: top;\n",
       "    }\n",
       "\n",
       "    .dataframe thead th {\n",
       "        text-align: right;\n",
       "    }\n",
       "</style>\n",
       "<table border=\"1\" class=\"dataframe\">\n",
       "  <thead>\n",
       "    <tr style=\"text-align: right;\">\n",
       "      <th></th>\n",
       "      <th>LotArea</th>\n",
       "      <th>OverallQual</th>\n",
       "      <th>OverallCond</th>\n",
       "      <th>TotalBsmtSF</th>\n",
       "      <th>1stFlrSF</th>\n",
       "      <th>2ndFlrSF</th>\n",
       "      <th>GrLivArea</th>\n",
       "      <th>TotRmsAbvGrd</th>\n",
       "      <th>GarageArea</th>\n",
       "      <th>Fireplaces</th>\n",
       "      <th>LotArea_1stFlrSF</th>\n",
       "      <th>LotArea_TotalBsmtSF</th>\n",
       "      <th>LotArea_GrLivArea</th>\n",
       "      <th>LotArea_Fireplaces</th>\n",
       "      <th>2ndFlrSF_TotRmsAbvGrd</th>\n",
       "      <th>OverallCond_TotalBsmtSF</th>\n",
       "      <th>OverallQual_2ndFlrSF</th>\n",
       "    </tr>\n",
       "  </thead>\n",
       "  <tbody>\n",
       "    <tr>\n",
       "      <th>0</th>\n",
       "      <td>-0.114710</td>\n",
       "      <td>-0.099842</td>\n",
       "      <td>-0.509252</td>\n",
       "      <td>-0.639316</td>\n",
       "      <td>-0.804789</td>\n",
       "      <td>1.261552</td>\n",
       "      <td>0.499114</td>\n",
       "      <td>0.250689</td>\n",
       "      <td>0.327629</td>\n",
       "      <td>-0.994820</td>\n",
       "      <td>0.092318</td>\n",
       "      <td>0.073336</td>\n",
       "      <td>-0.057254</td>\n",
       "      <td>0.114116</td>\n",
       "      <td>0.316257</td>\n",
       "      <td>0.325573</td>\n",
       "      <td>-0.125956</td>\n",
       "    </tr>\n",
       "    <tr>\n",
       "      <th>1</th>\n",
       "      <td>-0.176719</td>\n",
       "      <td>0.632038</td>\n",
       "      <td>-0.509252</td>\n",
       "      <td>0.838208</td>\n",
       "      <td>0.641608</td>\n",
       "      <td>-0.808132</td>\n",
       "      <td>-0.247249</td>\n",
       "      <td>-0.365525</td>\n",
       "      <td>0.079146</td>\n",
       "      <td>-0.994820</td>\n",
       "      <td>-0.113385</td>\n",
       "      <td>-0.148128</td>\n",
       "      <td>0.043694</td>\n",
       "      <td>0.175804</td>\n",
       "      <td>0.295392</td>\n",
       "      <td>-0.426859</td>\n",
       "      <td>-0.510770</td>\n",
       "    </tr>\n",
       "    <tr>\n",
       "      <th>2</th>\n",
       "      <td>-0.246336</td>\n",
       "      <td>-0.831723</td>\n",
       "      <td>1.304613</td>\n",
       "      <td>-0.012560</td>\n",
       "      <td>-0.329000</td>\n",
       "      <td>-0.808132</td>\n",
       "      <td>-0.944766</td>\n",
       "      <td>-0.981739</td>\n",
       "      <td>-1.105931</td>\n",
       "      <td>-0.994820</td>\n",
       "      <td>0.081045</td>\n",
       "      <td>0.003094</td>\n",
       "      <td>0.232730</td>\n",
       "      <td>0.245060</td>\n",
       "      <td>0.793375</td>\n",
       "      <td>-0.016386</td>\n",
       "      <td>0.672141</td>\n",
       "    </tr>\n",
       "    <tr>\n",
       "      <th>3</th>\n",
       "      <td>-0.378617</td>\n",
       "      <td>-0.831723</td>\n",
       "      <td>1.304613</td>\n",
       "      <td>-0.339045</td>\n",
       "      <td>-0.609036</td>\n",
       "      <td>-0.808132</td>\n",
       "      <td>-1.146010</td>\n",
       "      <td>-0.981739</td>\n",
       "      <td>-1.134602</td>\n",
       "      <td>0.588023</td>\n",
       "      <td>0.230591</td>\n",
       "      <td>0.128368</td>\n",
       "      <td>0.433899</td>\n",
       "      <td>-0.222636</td>\n",
       "      <td>0.793375</td>\n",
       "      <td>-0.442323</td>\n",
       "      <td>0.672141</td>\n",
       "    </tr>\n",
       "    <tr>\n",
       "      <th>4</th>\n",
       "      <td>-0.010898</td>\n",
       "      <td>-1.563603</td>\n",
       "      <td>1.304613</td>\n",
       "      <td>-2.531499</td>\n",
       "      <td>-1.315922</td>\n",
       "      <td>0.550523</td>\n",
       "      <td>-0.481708</td>\n",
       "      <td>0.250689</td>\n",
       "      <td>-2.281450</td>\n",
       "      <td>-0.994820</td>\n",
       "      <td>0.014341</td>\n",
       "      <td>0.027589</td>\n",
       "      <td>0.005250</td>\n",
       "      <td>0.010842</td>\n",
       "      <td>0.138010</td>\n",
       "      <td>-3.302627</td>\n",
       "      <td>-0.860799</td>\n",
       "    </tr>\n",
       "  </tbody>\n",
       "</table>\n",
       "</div>"
      ],
      "text/plain": [
       "    LotArea  OverallQual  OverallCond  TotalBsmtSF  1stFlrSF  2ndFlrSF  \\\n",
       "0 -0.114710    -0.099842    -0.509252    -0.639316 -0.804789  1.261552   \n",
       "1 -0.176719     0.632038    -0.509252     0.838208  0.641608 -0.808132   \n",
       "2 -0.246336    -0.831723     1.304613    -0.012560 -0.329000 -0.808132   \n",
       "3 -0.378617    -0.831723     1.304613    -0.339045 -0.609036 -0.808132   \n",
       "4 -0.010898    -1.563603     1.304613    -2.531499 -1.315922  0.550523   \n",
       "\n",
       "   GrLivArea  TotRmsAbvGrd  GarageArea  Fireplaces  LotArea_1stFlrSF  \\\n",
       "0   0.499114      0.250689    0.327629   -0.994820          0.092318   \n",
       "1  -0.247249     -0.365525    0.079146   -0.994820         -0.113385   \n",
       "2  -0.944766     -0.981739   -1.105931   -0.994820          0.081045   \n",
       "3  -1.146010     -0.981739   -1.134602    0.588023          0.230591   \n",
       "4  -0.481708      0.250689   -2.281450   -0.994820          0.014341   \n",
       "\n",
       "   LotArea_TotalBsmtSF  LotArea_GrLivArea  LotArea_Fireplaces  \\\n",
       "0             0.073336          -0.057254            0.114116   \n",
       "1            -0.148128           0.043694            0.175804   \n",
       "2             0.003094           0.232730            0.245060   \n",
       "3             0.128368           0.433899           -0.222636   \n",
       "4             0.027589           0.005250            0.010842   \n",
       "\n",
       "   2ndFlrSF_TotRmsAbvGrd  OverallCond_TotalBsmtSF  OverallQual_2ndFlrSF  \n",
       "0               0.316257                 0.325573             -0.125956  \n",
       "1               0.295392                -0.426859             -0.510770  \n",
       "2               0.793375                -0.016386              0.672141  \n",
       "3               0.793375                -0.442323              0.672141  \n",
       "4               0.138010                -3.302627             -0.860799  "
      ]
     },
     "execution_count": 13,
     "metadata": {},
     "output_type": "execute_result"
    }
   ],
   "source": [
    "# Your code here\n",
    "X_train.head()"
   ]
  },
  {
   "cell_type": "markdown",
   "metadata": {},
   "source": [
    "## Full Model R-Squared"
   ]
  },
  {
   "cell_type": "markdown",
   "metadata": {},
   "source": [
    "Check out the $R^2$ of the full model with your interaction and polynomial terms added. Print this value for both the train and validation data."
   ]
  },
  {
   "cell_type": "code",
   "execution_count": 14,
   "metadata": {},
   "outputs": [
    {
     "name": "stdout",
     "output_type": "stream",
     "text": [
      "Train R^2: 0.8003632679622383\n",
      "Validation R^2:  0.7468205440300999\n"
     ]
    }
   ],
   "source": [
    "# Your code here\n",
    "\n",
    "lr = LinearRegression()\n",
    "lr.fit(X_train, y_train)\n",
    "\n",
    "print(\"Train R^2:\", lr.score(X_train, y_train))\n",
    "print(\"Validation R^2: \", lr.score(X_val, y_val))"
   ]
  },
  {
   "cell_type": "markdown",
   "metadata": {},
   "source": [
    "It looks like we may be overfitting some now. Let's try some feature selection techniques."
   ]
  },
  {
   "cell_type": "markdown",
   "metadata": {},
   "source": [
    "## Feature Selection\n",
    "\n",
    "First, test out `RFE` ([documentation here](https://scikit-learn.org/stable/modules/generated/sklearn.feature_selection.RFE.html)) with several different `n_features_to_select` values. For each value, print out the train and validation $R^2$ score and how many features remain."
   ]
  },
  {
   "cell_type": "code",
   "execution_count": 15,
   "metadata": {},
   "outputs": [
    {
     "name": "stdout",
     "output_type": "stream",
     "text": [
      "Train R^2: 0.776039994126505\n",
      "Test R^2:  0.6352981725272362\n",
      "Using 5 out of 17 features\n",
      "\n",
      "Train R^2: 0.7956644353038372\n",
      "Test R^2:  0.724748019762746\n",
      "Using 10 out of 17 features\n",
      "\n",
      "Train R^2: 0.8003459743341153\n",
      "Test R^2:  0.7467783601803735\n",
      "Using 15 out of 17 features\n",
      "\n",
      "Train R^2: 0.8003632679622383\n",
      "Test R^2:  0.7468205440300999\n",
      "Using 20 out of 17 features\n",
      "\n",
      "Train R^2: 0.8003632679622383\n",
      "Test R^2:  0.7468205440300999\n",
      "Using 25 out of 17 features\n",
      "\n"
     ]
    }
   ],
   "source": [
    "# Your code here\n",
    "\n",
    "for n in [5, 10, 15, 20, 25]:\n",
    "    rfe = RFE(LinearRegression(), n_features_to_select=n)\n",
    "    X_rfe_train = rfe.fit_transform(X_train, y_train)\n",
    "    X_rfe_val = rfe.transform(X_val)\n",
    "\n",
    "    lr = LinearRegression()\n",
    "    lr.fit(X_rfe_train, y_train)\n",
    "\n",
    "    print(\"Train R^2:\", lr.score(X_rfe_train, y_train))\n",
    "    print(\"Test R^2: \", lr.score(X_rfe_val, y_val))\n",
    "    print(f\"Using {n} out of {X_train.shape[1]} features\")\n",
    "    print()\n"
   ]
  },
  {
   "cell_type": "markdown",
   "metadata": {},
   "source": [
    "Now test out `Lasso` ([documentation here](https://scikit-learn.org/stable/modules/generated/sklearn.linear_model.Lasso.html)) with several different `alpha` values."
   ]
  },
  {
   "cell_type": "code",
   "execution_count": 16,
   "metadata": {},
   "outputs": [
    {
     "name": "stdout",
     "output_type": "stream",
     "text": [
      "Train R^2: 0.8003631205043212\n",
      "Validation R^2:  0.7467595180829177\n",
      "Using 26 out of 17 features\n",
      "and an alpha of 1\n",
      "\n",
      "Train R^2: 0.8003615882305483\n",
      "Validation R^2:  0.7464817233440981\n",
      "Using 26 out of 17 features\n",
      "and an alpha of 10\n",
      "\n",
      "Train R^2: 0.8002166242199933\n",
      "Validation R^2:  0.7434128637149325\n",
      "Using 26 out of 17 features\n",
      "and an alpha of 100\n",
      "\n",
      "Train R^2: 0.7958866297543004\n",
      "Validation R^2:  0.6912680517975045\n",
      "Using 21 out of 17 features\n",
      "and an alpha of 1000\n",
      "\n",
      "Train R^2: 0.7503810493218819\n",
      "Validation R^2:  0.6485821732264372\n",
      "Using 16 out of 17 features\n",
      "and an alpha of 10000\n",
      "\n"
     ]
    }
   ],
   "source": [
    "# Your code here\n",
    "\n",
    "for alpha in [1, 10, 100, 1000, 10000]:\n",
    "    lasso = Lasso(alpha=alpha)\n",
    "    lasso.fit(X_train, y_train)\n",
    "\n",
    "    print(\"Train R^2:\", lasso.score(X_train, y_train))\n",
    "    print(\"Validation R^2: \", lasso.score(X_val, y_val))\n",
    "    print(f\"Using { 26 - (sum(abs(lasso.coef_) < 10**(-10)))} out of {X_train.shape[1]} features\")\n",
    "    print(\"and an alpha of\", alpha)\n",
    "    print()"
   ]
  },
  {
   "cell_type": "markdown",
   "metadata": {},
   "source": [
    "Compare the results. Which features would you choose to use?"
   ]
  },
  {
   "cell_type": "code",
   "execution_count": 17,
   "metadata": {},
   "outputs": [
    {
     "data": {
      "text/plain": [
       "\"\\nFor RFE the model with the best validation R-Squared was using 20 features\\n\\nFor Lasso the model with the best validation R-Squared was using an alpha of 10000\\n\\nThe Lasso result was a bit better so let's go with that and the 12 features\\nthat it selected\\n\""
      ]
     },
     "execution_count": 17,
     "metadata": {},
     "output_type": "execute_result"
    }
   ],
   "source": [
    "# Your written answer here\n",
    "\"\"\"\n",
    "For RFE the model with the best validation R-Squared was using 20 features\n",
    "\n",
    "For Lasso the model with the best validation R-Squared was using an alpha of 10000\n",
    "\n",
    "The Lasso result was a bit better so let's go with that and the 12 features\n",
    "that it selected\n",
    "\"\"\""
   ]
  },
  {
   "cell_type": "markdown",
   "metadata": {},
   "source": [
    "## Evaluate Final Model on Test Data\n",
    "\n",
    "### Data Preparation\n",
    "\n",
    "At the start of this lab, we created `X_test` and `y_test`. Prepare `X_test` the same way that `X_train` and `X_val` have been prepared. This includes scaling, adding interactions, and adding polynomial terms."
   ]
  },
  {
   "cell_type": "code",
   "execution_count": 18,
   "metadata": {},
   "outputs": [
    {
     "ename": "NameError",
     "evalue": "name 'top_polynomials' is not defined",
     "output_type": "error",
     "traceback": [
      "\u001b[1;31m---------------------------------------------------------------------------\u001b[0m",
      "\u001b[1;31mNameError\u001b[0m                                 Traceback (most recent call last)",
      "Cell \u001b[1;32mIn[18], line 13\u001b[0m\n\u001b[0;32m     10\u001b[0m     X_test[new_col_name] \u001b[38;5;241m=\u001b[39m X_test[col1] \u001b[38;5;241m*\u001b[39m X_test[col2]\n\u001b[0;32m     12\u001b[0m \u001b[38;5;66;03m# Add polynomials to X_val\u001b[39;00m\n\u001b[1;32m---> 13\u001b[0m \u001b[38;5;28;01mfor\u001b[39;00m (col, degree, _) \u001b[38;5;129;01min\u001b[39;00m top_polynomials\u001b[38;5;241m.\u001b[39mvalues:\n\u001b[0;32m     14\u001b[0m     poly \u001b[38;5;241m=\u001b[39m PolynomialFeatures(degree, include_bias\u001b[38;5;241m=\u001b[39m\u001b[38;5;28;01mFalse\u001b[39;00m)\n\u001b[0;32m     15\u001b[0m     poly_test \u001b[38;5;241m=\u001b[39m pd\u001b[38;5;241m.\u001b[39mDataFrame(poly\u001b[38;5;241m.\u001b[39mfit_transform(X_test[[col]]),\n\u001b[0;32m     16\u001b[0m                                         columns\u001b[38;5;241m=\u001b[39mpoly\u001b[38;5;241m.\u001b[39mget_feature_names([col]))\n",
      "\u001b[1;31mNameError\u001b[0m: name 'top_polynomials' is not defined"
     ]
    }
   ],
   "source": [
    "# Your code here\n",
    "\n",
    "X_test_scaled = scaler.transform(X_test)\n",
    "X_test = pd.DataFrame(X_test_scaled, columns=X.columns)\n",
    "\n",
    "# Add interactions to X_test\n",
    "for record in top_7_interactions:\n",
    "    col1, col2 = record[0]\n",
    "    new_col_name = col1 + \"_\" + col2\n",
    "    X_test[new_col_name] = X_test[col1] * X_test[col2]\n",
    "\n",
    "# Add polynomials to X_val\n",
    "for (col, degree, _) in top_polynomials.values:\n",
    "    poly = PolynomialFeatures(degree, include_bias=False)\n",
    "    poly_test = pd.DataFrame(poly.fit_transform(X_test[[col]]),\n",
    "                                        columns=poly.get_feature_names([col]))\n",
    "    X_test = pd.concat([X_test.drop(col, axis=1), poly_test], axis=1)"
   ]
  },
  {
   "cell_type": "markdown",
   "metadata": {},
   "source": [
    "### Evaluation"
   ]
  },
  {
   "cell_type": "markdown",
   "metadata": {},
   "source": [
    "Using either `RFE` or `Lasso`, fit a model on the complete train + validation set, then find R-Squared and MSE values for the test set."
   ]
  },
  {
   "cell_type": "code",
   "execution_count": 19,
   "metadata": {},
   "outputs": [
    {
     "name": "stdout",
     "output_type": "stream",
     "text": [
      "R-Squared: 0.7524647427519646\n",
      "MSE: 1734060978.3728046\n"
     ]
    }
   ],
   "source": [
    "# Your code here\n",
    "final_model = Lasso(alpha=10000)\n",
    "final_model.fit(pd.concat([X_train, X_val]), pd.concat([y_train, y_val]))\n",
    "\n",
    "print(\"R-Squared:\", final_model.score(X_test, y_test))\n",
    "print(\"MSE:\", mean_squared_error(y_test, final_model.predict(X_test)))"
   ]
  },
  {
   "cell_type": "markdown",
   "metadata": {},
   "source": [
    "## Level Up Ideas (Optional)\n",
    "\n",
    "### Create a Lasso Path\n",
    "\n",
    "From this section, you know that when using `Lasso`, more parameters shrink to zero as your regularization parameter goes up. In scikit-learn there is a function `lasso_path()` which visualizes the shrinkage of the coefficients while $alpha$ changes. Try this out yourself!\n",
    "\n",
    "https://scikit-learn.org/stable/auto_examples/linear_model/plot_lasso_coordinate_descent_path.html#sphx-glr-auto-examples-linear-model-plot-lasso-coordinate-descent-path-py\n",
    "\n",
    "### AIC and BIC for Subset Selection\n",
    "\n",
    "This notebook shows how you can use AIC and BIC purely for feature selection. Try this code out on our Ames housing data!\n",
    "\n",
    "https://xavierbourretsicotte.github.io/subset_selection.html"
   ]
  },
  {
   "cell_type": "markdown",
   "metadata": {},
   "source": [
    "## Summary"
   ]
  },
  {
   "cell_type": "markdown",
   "metadata": {},
   "source": [
    "Congratulations! You now know how to apply concepts of bias-variance tradeoff using extensions to linear models and feature selection."
   ]
  }
 ],
 "metadata": {
  "kernelspec": {
   "display_name": "Python 3 (ipykernel)",
   "language": "python",
   "name": "python3"
  },
  "language_info": {
   "codemirror_mode": {
    "name": "ipython",
    "version": 3
   },
   "file_extension": ".py",
   "mimetype": "text/x-python",
   "name": "python",
   "nbconvert_exporter": "python",
   "pygments_lexer": "ipython3",
   "version": "3.11.7"
  }
 },
 "nbformat": 4,
 "nbformat_minor": 4
}
